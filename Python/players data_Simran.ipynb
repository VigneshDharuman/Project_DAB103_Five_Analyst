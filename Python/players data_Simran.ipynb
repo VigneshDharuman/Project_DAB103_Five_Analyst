{
 "cells": [
  {
   "cell_type": "code",
   "execution_count": 1,
   "id": "245dc4f7",
   "metadata": {},
   "outputs": [],
   "source": [
    "import pandas as pd\n",
    "import numpy as np\n",
    "import seaborn as sns\n"
   ]
  },
  {
   "cell_type": "code",
   "execution_count": 29,
   "id": "9a682081",
   "metadata": {},
   "outputs": [
    {
     "name": "stdout",
     "output_type": "stream",
     "text": [
      "        Player_Name        DOB Batting_Hand           Bowling_Skill   Country\n",
      "0    A Ashish Reddy  24-Feb-91   Right_Hand        Right-arm medium     India\n",
      "1        A Chandila  05-Dec-83   Right_Hand      Right-arm offbreak     India\n",
      "2          A Chopra  19-Sep-77   Right_Hand      Right-arm offbreak     India\n",
      "3       A Choudhary        NaN   Right_hand    Left-arm fast-medium       NaN\n",
      "4       A Dananjaya        NaN   Right_Hand      Right-arm offbreak       NaN\n",
      "..              ...        ...          ...                     ...       ...\n",
      "561     Younis Khan  29-Nov-77   Right_Hand        Right-arm medium  Pakistan\n",
      "562       YS Chahal  23-Jul-90   Right_Hand         Legbreak googly     India\n",
      "563    Yuvraj Singh  12-Dec-81    Left_Hand  Slow left-arm orthodox     India\n",
      "564     YV Takawale  05-Nov-84   Right_Hand                     NaN     India\n",
      "565          Z Khan  07-Oct-78   Right_Hand    Left-arm fast-medium     India\n",
      "\n",
      "[566 rows x 5 columns]\n"
     ]
    }
   ],
   "source": [
    "players = pd.read_csv ('C:/Users/Supreme/Downloads/Players.csv')\n",
    "batting = pd.read_csv('C:/Users/Supreme/Downloads/batting_stats.csv')\n",
    "print(players)"
   ]
  },
  {
   "cell_type": "code",
   "execution_count": 3,
   "id": "53f7f84e",
   "metadata": {},
   "outputs": [
    {
     "data": {
      "text/html": [
       "<div>\n",
       "<style scoped>\n",
       "    .dataframe tbody tr th:only-of-type {\n",
       "        vertical-align: middle;\n",
       "    }\n",
       "\n",
       "    .dataframe tbody tr th {\n",
       "        vertical-align: top;\n",
       "    }\n",
       "\n",
       "    .dataframe thead th {\n",
       "        text-align: right;\n",
       "    }\n",
       "</style>\n",
       "<table border=\"1\" class=\"dataframe\">\n",
       "  <thead>\n",
       "    <tr style=\"text-align: right;\">\n",
       "      <th></th>\n",
       "      <th>Player_Name</th>\n",
       "      <th>DOB</th>\n",
       "      <th>Batting_Hand</th>\n",
       "      <th>Bowling_Skill</th>\n",
       "      <th>Country</th>\n",
       "    </tr>\n",
       "  </thead>\n",
       "  <tbody>\n",
       "    <tr>\n",
       "      <th>count</th>\n",
       "      <td>566</td>\n",
       "      <td>471</td>\n",
       "      <td>563</td>\n",
       "      <td>502</td>\n",
       "      <td>471</td>\n",
       "    </tr>\n",
       "    <tr>\n",
       "      <th>unique</th>\n",
       "      <td>566</td>\n",
       "      <td>457</td>\n",
       "      <td>3</td>\n",
       "      <td>16</td>\n",
       "      <td>11</td>\n",
       "    </tr>\n",
       "    <tr>\n",
       "      <th>top</th>\n",
       "      <td>A Ashish Reddy</td>\n",
       "      <td>30-Apr-87</td>\n",
       "      <td>Right_Hand</td>\n",
       "      <td>Right-arm medium</td>\n",
       "      <td>India</td>\n",
       "    </tr>\n",
       "    <tr>\n",
       "      <th>freq</th>\n",
       "      <td>1</td>\n",
       "      <td>3</td>\n",
       "      <td>373</td>\n",
       "      <td>107</td>\n",
       "      <td>264</td>\n",
       "    </tr>\n",
       "  </tbody>\n",
       "</table>\n",
       "</div>"
      ],
      "text/plain": [
       "           Player_Name        DOB Batting_Hand     Bowling_Skill Country\n",
       "count              566        471          563               502     471\n",
       "unique             566        457            3                16      11\n",
       "top     A Ashish Reddy  30-Apr-87   Right_Hand  Right-arm medium   India\n",
       "freq                 1          3          373               107     264"
      ]
     },
     "execution_count": 3,
     "metadata": {},
     "output_type": "execute_result"
    }
   ],
   "source": [
    "players.describe()"
   ]
  },
  {
   "cell_type": "code",
   "execution_count": 4,
   "id": "613bb727",
   "metadata": {},
   "outputs": [
    {
     "data": {
      "text/plain": [
       "Player_Name       0\n",
       "DOB              95\n",
       "Batting_Hand      3\n",
       "Bowling_Skill    64\n",
       "Country          95\n",
       "dtype: int64"
      ]
     },
     "execution_count": 4,
     "metadata": {},
     "output_type": "execute_result"
    }
   ],
   "source": [
    "players.isnull().sum()"
   ]
  },
  {
   "cell_type": "code",
   "execution_count": 5,
   "id": "149bda31",
   "metadata": {},
   "outputs": [],
   "source": [
    "players.drop(['DOB'],axis=1, inplace =True)"
   ]
  },
  {
   "cell_type": "code",
   "execution_count": 7,
   "id": "b9df4bf2",
   "metadata": {},
   "outputs": [],
   "source": [
    "players.rename(columns={'Player_Name':'Name'}, inplace=True)"
   ]
  },
  {
   "cell_type": "code",
   "execution_count": 8,
   "id": "b261204e",
   "metadata": {},
   "outputs": [
    {
     "name": "stdout",
     "output_type": "stream",
     "text": [
      "<class 'pandas.core.frame.DataFrame'>\n",
      "RangeIndex: 566 entries, 0 to 565\n",
      "Data columns (total 4 columns):\n",
      " #   Column         Non-Null Count  Dtype \n",
      "---  ------         --------------  ----- \n",
      " 0   Name           566 non-null    object\n",
      " 1   Batting_Hand   563 non-null    object\n",
      " 2   Bowling_Skill  502 non-null    object\n",
      " 3   Country        471 non-null    object\n",
      "dtypes: object(4)\n",
      "memory usage: 17.8+ KB\n"
     ]
    }
   ],
   "source": [
    "players.info()"
   ]
  },
  {
   "cell_type": "code",
   "execution_count": 9,
   "id": "48886ece",
   "metadata": {},
   "outputs": [
    {
     "data": {
      "text/plain": [
       "array(['Right_Hand', 'Right_hand', 'Left_Hand', nan], dtype=object)"
      ]
     },
     "execution_count": 9,
     "metadata": {},
     "output_type": "execute_result"
    }
   ],
   "source": [
    "players['Batting_Hand'].unique()"
   ]
  },
  {
   "cell_type": "code",
   "execution_count": 10,
   "id": "c5acc9cd",
   "metadata": {},
   "outputs": [
    {
     "data": {
      "text/plain": [
       "array(['Right-arm medium', 'Right-arm offbreak', 'Left-arm fast-medium',\n",
       "       'Right-arm fast-medium', nan, 'Right-arm fast', 'Legbreak googly',\n",
       "       'Legbreak', 'Left-arm medium-fast', 'Slow left-arm orthodox',\n",
       "       'Right-arm medium-fast', 'Left-arm medium', 'Left-arm fast',\n",
       "       'Slow left-arm chinaman', 'Right-arm bowler', 'Right-arm Medium',\n",
       "       'Right-arm Fast'], dtype=object)"
      ]
     },
     "execution_count": 10,
     "metadata": {},
     "output_type": "execute_result"
    }
   ],
   "source": [
    "players['Bowling_Skill'].unique()"
   ]
  },
  {
   "cell_type": "code",
   "execution_count": 13,
   "id": "07bd963a",
   "metadata": {},
   "outputs": [
    {
     "data": {
      "text/plain": [
       "Right_Hand    373\n",
       "Left_Hand     142\n",
       "Right_hand     48\n",
       "Name: Batting_Hand, dtype: int64"
      ]
     },
     "execution_count": 13,
     "metadata": {},
     "output_type": "execute_result"
    }
   ],
   "source": [
    "players['Batting_Hand'].value_counts()"
   ]
  },
  {
   "cell_type": "code",
   "execution_count": 15,
   "id": "a8815bf7",
   "metadata": {},
   "outputs": [
    {
     "data": {
      "text/plain": [
       "Right-arm medium          107\n",
       "Right-arm offbreak         91\n",
       "Right-arm fast-medium      68\n",
       "Slow left-arm orthodox     50\n",
       "Right-arm fast             39\n",
       "Right-arm medium-fast      38\n",
       "Legbreak                   30\n",
       "Legbreak googly            28\n",
       "Left-arm fast-medium       19\n",
       "Left-arm medium            11\n",
       "Left-arm medium-fast        9\n",
       "Slow left-arm chinaman      5\n",
       "Left-arm fast               4\n",
       "Right-arm bowler            1\n",
       "Right-arm Medium            1\n",
       "Right-arm Fast              1\n",
       "Name: Bowling_Skill, dtype: int64"
      ]
     },
     "execution_count": 15,
     "metadata": {},
     "output_type": "execute_result"
    }
   ],
   "source": [
    "players['Bowling_Skill'].value_counts()"
   ]
  },
  {
   "cell_type": "code",
   "execution_count": 32,
   "id": "a7a1c722",
   "metadata": {},
   "outputs": [],
   "source": [
    "players.to_csv(\"Players_new.csv\")"
   ]
  },
  {
   "cell_type": "code",
   "execution_count": null,
   "id": "b2be0f00",
   "metadata": {},
   "outputs": [],
   "source": []
  }
 ],
 "metadata": {
  "kernelspec": {
   "display_name": "Python 3 (ipykernel)",
   "language": "python",
   "name": "python3"
  },
  "language_info": {
   "codemirror_mode": {
    "name": "ipython",
    "version": 3
   },
   "file_extension": ".py",
   "mimetype": "text/x-python",
   "name": "python",
   "nbconvert_exporter": "python",
   "pygments_lexer": "ipython3",
   "version": "3.9.7"
  }
 },
 "nbformat": 4,
 "nbformat_minor": 5
}
