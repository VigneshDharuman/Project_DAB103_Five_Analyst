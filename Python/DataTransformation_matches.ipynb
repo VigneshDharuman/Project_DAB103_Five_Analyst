{
 "cells": [
  {
   "cell_type": "code",
   "execution_count": 1,
   "id": "64ff25e4",
   "metadata": {},
   "outputs": [],
   "source": [
    "# Some basic libs\n",
    "import numpy as np \n",
    "import pandas as pd\n",
    "import seaborn as sns\n",
    "import os"
   ]
  },
  {
   "cell_type": "code",
   "execution_count": 2,
   "id": "022232d4",
   "metadata": {},
   "outputs": [],
   "source": [
    "matches = pd.read_csv('C:/Users/Vignesh/Documents/Stclair/DAB-103/Project/archive/IPL_data/IPL Matches 2008-2020.csv')\n",
    "home_and_away = pd.read_csv('C:/Users/Vignesh/Documents/Stclair/DAB-103/Project/archive/IPL_data/teamwise_home_and_away.csv')"
   ]
  },
  {
   "cell_type": "code",
   "execution_count": 3,
   "id": "aa00b561",
   "metadata": {
    "scrolled": true
   },
   "outputs": [
    {
     "data": {
      "text/plain": [
       "id                   0\n",
       "city                13\n",
       "date                 0\n",
       "player_of_match      4\n",
       "venue                0\n",
       "neutral_venue        0\n",
       "team1                0\n",
       "team2                0\n",
       "toss_winner          0\n",
       "toss_decision        0\n",
       "winner               4\n",
       "result               4\n",
       "result_margin       17\n",
       "eliminator           4\n",
       "method             797\n",
       "umpire1              0\n",
       "umpire2              0\n",
       "dtype: int64"
      ]
     },
     "execution_count": 3,
     "metadata": {},
     "output_type": "execute_result"
    }
   ],
   "source": [
    "matches.isnull().sum()"
   ]
  },
  {
   "cell_type": "code",
   "execution_count": 4,
   "id": "e2798aa4",
   "metadata": {},
   "outputs": [
    {
     "data": {
      "text/plain": [
       "array(['Delhi Capitals', 'Sunrisers Hyderabad', 'Chennai Super Kings',\n",
       "       'Rajasthan Royals', 'Mumbai Indians', 'Kings XI Punjab',\n",
       "       'Royal Challengers Bangalore', 'Kolkata Knight Riders',\n",
       "       'Delhi Daredevils', 'Rising Pune Supergiant', 'Gujarat Lions',\n",
       "       'Rising Pune Supergiants', 'Pune Warriors', 'Deccan Chargers',\n",
       "       'Kochi Tuskers Kerala'], dtype=object)"
      ]
     },
     "execution_count": 4,
     "metadata": {},
     "output_type": "execute_result"
    }
   ],
   "source": [
    "matches['toss_winner'].unique()"
   ]
  },
  {
   "cell_type": "code",
   "execution_count": 5,
   "id": "3f42c6f9",
   "metadata": {},
   "outputs": [
    {
     "data": {
      "text/plain": [
       "array(['Mumbai Indians', 'Delhi Capitals', 'Sunrisers Hyderabad',\n",
       "       'Chennai Super Kings', 'Kolkata Knight Riders', 'Rajasthan Royals',\n",
       "       'Kings XI Punjab', 'Royal Challengers Bangalore', nan,\n",
       "       'Delhi Daredevils', 'Rising Pune Supergiant', 'Gujarat Lions',\n",
       "       'Rising Pune Supergiants', 'Pune Warriors', 'Deccan Chargers',\n",
       "       'Kochi Tuskers Kerala'], dtype=object)"
      ]
     },
     "execution_count": 5,
     "metadata": {},
     "output_type": "execute_result"
    }
   ],
   "source": [
    "matches['winner'].unique()"
   ]
  },
  {
   "cell_type": "code",
   "execution_count": 6,
   "id": "5112b895",
   "metadata": {},
   "outputs": [
    {
     "data": {
      "text/plain": [
       "array(['Delhi Capitals', 'Royal Challengers Bangalore', 'Mumbai Indians',\n",
       "       'Kings XI Punjab', 'Kolkata Knight Riders', 'Sunrisers Hyderabad',\n",
       "       'Chennai Super Kings', 'Rajasthan Royals', 'Delhi Daredevils',\n",
       "       'Rising Pune Supergiant', 'Gujarat Lions',\n",
       "       'Rising Pune Supergiants', 'Pune Warriors', 'Deccan Chargers',\n",
       "       'Kochi Tuskers Kerala'], dtype=object)"
      ]
     },
     "execution_count": 6,
     "metadata": {},
     "output_type": "execute_result"
    }
   ],
   "source": [
    "matches['team1'].unique()"
   ]
  },
  {
   "cell_type": "code",
   "execution_count": 7,
   "id": "f7d71ddd",
   "metadata": {},
   "outputs": [
    {
     "data": {
      "text/plain": [
       "array(['Mumbai Indians', 'Sunrisers Hyderabad', 'Delhi Capitals',\n",
       "       'Chennai Super Kings', 'Rajasthan Royals', 'Kings XI Punjab',\n",
       "       'Royal Challengers Bangalore', 'Kolkata Knight Riders',\n",
       "       'Delhi Daredevils', 'Rising Pune Supergiant', 'Gujarat Lions',\n",
       "       'Rising Pune Supergiants', 'Pune Warriors', 'Deccan Chargers',\n",
       "       'Kochi Tuskers Kerala'], dtype=object)"
      ]
     },
     "execution_count": 7,
     "metadata": {},
     "output_type": "execute_result"
    }
   ],
   "source": [
    "matches['team2'].unique()"
   ]
  },
  {
   "cell_type": "code",
   "execution_count": 8,
   "id": "c921c056",
   "metadata": {},
   "outputs": [],
   "source": [
    "matches['toss_winner'].replace(to_replace=\"Rising Pune Supergiants\",value=\"Rising Pune Supergiant\",inplace=True)\n",
    "matches['winner'].replace(to_replace=\"Rising Pune Supergiants\",value=\"Rising Pune Supergiant\",inplace=True)\n",
    "matches['team1'].replace(to_replace=\"Rising Pune Supergiants\",value=\"Rising Pune Supergiant\",inplace=True)\n",
    "matches['team2'].replace(to_replace=\"Rising Pune Supergiants\",value=\"Rising Pune Supergiant\",inplace=True)"
   ]
  },
  {
   "cell_type": "code",
   "execution_count": 9,
   "id": "ef6ab18f",
   "metadata": {
    "scrolled": true
   },
   "outputs": [
    {
     "data": {
      "text/plain": [
       "Mumbai Indians                 106\n",
       "Kolkata Knight Riders           98\n",
       "Chennai Super Kings             97\n",
       "Rajasthan Royals                87\n",
       "Royal Challengers Bangalore     87\n",
       "Kings XI Punjab                 85\n",
       "Delhi Daredevils                80\n",
       "Sunrisers Hyderabad             57\n",
       "Deccan Chargers                 43\n",
       "Delhi Capitals                  20\n",
       "Pune Warriors                   20\n",
       "Gujarat Lions                   15\n",
       "Rising Pune Supergiant          13\n",
       "Kochi Tuskers Kerala             8\n",
       "Name: toss_winner, dtype: int64"
      ]
     },
     "execution_count": 9,
     "metadata": {},
     "output_type": "execute_result"
    }
   ],
   "source": [
    "matches['toss_winner'].value_counts()"
   ]
  },
  {
   "cell_type": "code",
   "execution_count": 10,
   "id": "2183ef81",
   "metadata": {},
   "outputs": [
    {
     "data": {
      "text/plain": [
       "Mumbai Indians                 120\n",
       "Chennai Super Kings            106\n",
       "Kolkata Knight Riders           99\n",
       "Royal Challengers Bangalore     91\n",
       "Kings XI Punjab                 88\n",
       "Rajasthan Royals                81\n",
       "Delhi Daredevils                67\n",
       "Sunrisers Hyderabad             66\n",
       "Deccan Chargers                 29\n",
       "Delhi Capitals                  19\n",
       "Rising Pune Supergiant          15\n",
       "Gujarat Lions                   13\n",
       "Pune Warriors                   12\n",
       "Kochi Tuskers Kerala             6\n",
       "Name: winner, dtype: int64"
      ]
     },
     "execution_count": 10,
     "metadata": {},
     "output_type": "execute_result"
    }
   ],
   "source": [
    "matches['winner'].value_counts()"
   ]
  },
  {
   "cell_type": "code",
   "execution_count": 11,
   "id": "8a754329",
   "metadata": {},
   "outputs": [],
   "source": [
    "team_1 = matches['team1'].groupby(matches['team1']).agg('count')"
   ]
  },
  {
   "cell_type": "code",
   "execution_count": 12,
   "id": "8e42eafc",
   "metadata": {},
   "outputs": [
    {
     "data": {
      "text/plain": [
       "team1\n",
       "Chennai Super Kings             94\n",
       "Deccan Chargers                 39\n",
       "Delhi Capitals                  19\n",
       "Delhi Daredevils                83\n",
       "Gujarat Lions                   16\n",
       "Kings XI Punjab                 92\n",
       "Kochi Tuskers Kerala             7\n",
       "Kolkata Knight Riders           95\n",
       "Mumbai Indians                  97\n",
       "Pune Warriors                   23\n",
       "Rajasthan Royals                70\n",
       "Rising Pune Supergiant          14\n",
       "Royal Challengers Bangalore    108\n",
       "Sunrisers Hyderabad             59\n",
       "Name: team1, dtype: int64"
      ]
     },
     "execution_count": 12,
     "metadata": {},
     "output_type": "execute_result"
    }
   ],
   "source": [
    "team_1"
   ]
  },
  {
   "cell_type": "code",
   "execution_count": 13,
   "id": "60b65b8f",
   "metadata": {},
   "outputs": [],
   "source": [
    "team_2 = matches['team2'].groupby(matches['team2']).agg('count')"
   ]
  },
  {
   "cell_type": "code",
   "execution_count": 14,
   "id": "0f9c694b",
   "metadata": {},
   "outputs": [
    {
     "data": {
      "text/plain": [
       "team2\n",
       "Chennai Super Kings             84\n",
       "Deccan Chargers                 36\n",
       "Delhi Capitals                  14\n",
       "Delhi Daredevils                78\n",
       "Gujarat Lions                   14\n",
       "Kings XI Punjab                 98\n",
       "Kochi Tuskers Kerala             7\n",
       "Kolkata Knight Riders           97\n",
       "Mumbai Indians                 106\n",
       "Pune Warriors                   23\n",
       "Rajasthan Royals                91\n",
       "Rising Pune Supergiant          16\n",
       "Royal Challengers Bangalore     87\n",
       "Sunrisers Hyderabad             65\n",
       "Name: team2, dtype: int64"
      ]
     },
     "execution_count": 14,
     "metadata": {},
     "output_type": "execute_result"
    }
   ],
   "source": [
    "team_2"
   ]
  },
  {
   "cell_type": "code",
   "execution_count": 15,
   "id": "dd1a2ceb",
   "metadata": {},
   "outputs": [],
   "source": [
    "total_matches = team_1 + team_2"
   ]
  },
  {
   "cell_type": "code",
   "execution_count": 16,
   "id": "f46d3e82",
   "metadata": {},
   "outputs": [
    {
     "data": {
      "text/plain": [
       "team1\n",
       "Chennai Super Kings            178\n",
       "Deccan Chargers                 75\n",
       "Delhi Capitals                  33\n",
       "Delhi Daredevils               161\n",
       "Gujarat Lions                   30\n",
       "Kings XI Punjab                190\n",
       "Kochi Tuskers Kerala            14\n",
       "Kolkata Knight Riders          192\n",
       "Mumbai Indians                 203\n",
       "Pune Warriors                   46\n",
       "Rajasthan Royals               161\n",
       "Rising Pune Supergiant          30\n",
       "Royal Challengers Bangalore    195\n",
       "Sunrisers Hyderabad            124\n",
       "dtype: int64"
      ]
     },
     "execution_count": 16,
     "metadata": {},
     "output_type": "execute_result"
    }
   ],
   "source": [
    "total_matches"
   ]
  },
  {
   "cell_type": "code",
   "execution_count": 17,
   "id": "7b249d0c",
   "metadata": {},
   "outputs": [],
   "source": [
    "new_matches = matches.drop(columns=['method','umpire1','umpire2'])"
   ]
  },
  {
   "cell_type": "code",
   "execution_count": 18,
   "id": "8a9af264",
   "metadata": {},
   "outputs": [],
   "source": [
    "new_matches.to_csv(\"new_matches.csv\", encoding='utf-8', index=False)"
   ]
  },
  {
   "cell_type": "code",
   "execution_count": 19,
   "id": "e314d681",
   "metadata": {},
   "outputs": [
    {
     "name": "stdout",
     "output_type": "stream",
     "text": [
      "<class 'pandas.core.frame.DataFrame'>\n",
      "RangeIndex: 14 entries, 0 to 13\n",
      "Data columns (total 7 columns):\n",
      " #   Column               Non-Null Count  Dtype  \n",
      "---  ------               --------------  -----  \n",
      " 0   team                 14 non-null     object \n",
      " 1   home_wins            14 non-null     int64  \n",
      " 2   away_wins            14 non-null     int64  \n",
      " 3   home_matches         14 non-null     int64  \n",
      " 4   away_matches         14 non-null     int64  \n",
      " 5   home_win_percentage  14 non-null     float64\n",
      " 6   away_win_percentage  14 non-null     float64\n",
      "dtypes: float64(2), int64(4), object(1)\n",
      "memory usage: 912.0+ bytes\n"
     ]
    }
   ],
   "source": [
    "home_and_away.info()"
   ]
  },
  {
   "cell_type": "code",
   "execution_count": 20,
   "id": "27c80dc7",
   "metadata": {},
   "outputs": [
    {
     "name": "stdout",
     "output_type": "stream",
     "text": [
      "<class 'pandas.core.frame.DataFrame'>\n",
      "RangeIndex: 816 entries, 0 to 815\n",
      "Data columns (total 14 columns):\n",
      " #   Column           Non-Null Count  Dtype  \n",
      "---  ------           --------------  -----  \n",
      " 0   id               816 non-null    int64  \n",
      " 1   city             803 non-null    object \n",
      " 2   date             816 non-null    object \n",
      " 3   player_of_match  812 non-null    object \n",
      " 4   venue            816 non-null    object \n",
      " 5   neutral_venue    816 non-null    int64  \n",
      " 6   team1            816 non-null    object \n",
      " 7   team2            816 non-null    object \n",
      " 8   toss_winner      816 non-null    object \n",
      " 9   toss_decision    816 non-null    object \n",
      " 10  winner           812 non-null    object \n",
      " 11  result           812 non-null    object \n",
      " 12  result_margin    799 non-null    float64\n",
      " 13  eliminator       812 non-null    object \n",
      "dtypes: float64(1), int64(2), object(11)\n",
      "memory usage: 89.4+ KB\n"
     ]
    }
   ],
   "source": [
    "new_matches.info()"
   ]
  },
  {
   "cell_type": "code",
   "execution_count": null,
   "id": "5eb22224",
   "metadata": {},
   "outputs": [],
   "source": []
  }
 ],
 "metadata": {
  "kernelspec": {
   "display_name": "Python 3 (ipykernel)",
   "language": "python",
   "name": "python3"
  },
  "language_info": {
   "codemirror_mode": {
    "name": "ipython",
    "version": 3
   },
   "file_extension": ".py",
   "mimetype": "text/x-python",
   "name": "python",
   "nbconvert_exporter": "python",
   "pygments_lexer": "ipython3",
   "version": "3.9.7"
  }
 },
 "nbformat": 4,
 "nbformat_minor": 5
}
